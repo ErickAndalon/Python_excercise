{
  "nbformat": 4,
  "nbformat_minor": 0,
  "metadata": {
    "kernelspec": {
      "display_name": "Python 3",
      "language": "python",
      "name": "python3"
    },
    "language_info": {
      "codemirror_mode": {
        "name": "ipython",
        "version": 3
      },
      "file_extension": ".py",
      "mimetype": "text/x-python",
      "name": "python",
      "nbconvert_exporter": "python",
      "pygments_lexer": "ipython3",
      "version": "3.8.5"
    },
    "colab": {
      "name": "desviacion_estandar.ipynb",
      "provenance": []
    }
  },
  "cells": [
    {
      "cell_type": "markdown",
      "metadata": {
        "id": "0jJD0glWWPhb"
      },
      "source": [
        "# Reto 3: Desviación estándar\n",
        "\n",
        "## 1. Objetivos:\n",
        "- Utilizar la desviación estándar para realizar un análisis de dispersión de nuestros datos\n",
        " \n",
        "---\n",
        "    \n",
        "## 2. Desarrollo:"
      ]
    },
    {
      "cell_type": "markdown",
      "metadata": {
        "id": "US0liw2kWPhd"
      },
      "source": [
        "### a) Desviación estándar y distribución de los datos\n",
        "\n",
        "Como ya vimos, la desviación estándar es la medida que nos da la \"desviación típica\" (o esperada) de nuestros datos a comparación del promedio. Eso quiere decir que normalmente vamos a esperar que una gran parte de nuestros datos se encuentren a 1 desviación estándar de distancia del promedio. Entre más nos alejamos, menos muestras deberíamos de encontrar.\n",
        "\n",
        "Vamos a comprobar esto usando nuestro dataset de meteoritos que orbitan cerca de la Tierra. Tu Reto consiste en los siguientes pasos:\n",
        "\n",
        "1. Crea un DataFrame con el dataset `near_earth_objects-jan_feb_1995-clean.csv`.\n",
        "2. Obtén la cantidad total de datos en tu DataFrame.\n",
        "3. Obtén la desviación estándar de la columna 'estimated_diameter.meters.estimated_diameter_max'. Los siguientes pasos realízalos todos utilizando esta columna.\n",
        "4. Obtén el porcentaje de muestras que están a una distancia de 1 desviación estándar del promedio.\n",
        "5. Obtén el porcentaje de muestras que están a una distancia de 2 desviaciones estándares del promedio (multiplicar * 2).\n",
        "6. Obtén el porcentaje de muestras que están a una distancia de 3 desviaciones estándares del promedio (multiplicar * 3).\n",
        "7. Compara los porcentajes obtenidos y comenta con tus compañeros y la experta tus hallazgos. ¿Qué significa esto? ¿La definición de desviación estándar tiene sentido? ¿Qué puedo inferir acerca de la dispersión de mis datos a partir de los valores obtenidos?\n",
        "\n",
        "> Nota: Para obtener los porcentajes de los subconjuntos primero necesitas filtrar el DataFrame original para que sólo permanezcan las muestras que cumplan con los requisitos.\n",
        "\n",
        "> Nota: Este Reto está diseñado para tener una dificultad media. No te frustres si al principio parece demasiado difícil. Comienza poco a poco, resolviendo el problema en pedazos pequeños, y si no tienes la menor idea de cómo proceder recuerda que la experta está ahí para ayudarte."
      ]
    },
    {
      "cell_type": "code",
      "metadata": {
        "id": "cev4v5DPWS89"
      },
      "source": [
        "import pandas as pd\n",
        "import numpy as np\n",
        "import matplotlib.pyplot as plt"
      ],
      "execution_count": 1,
      "outputs": []
    },
    {
      "cell_type": "code",
      "metadata": {
        "id": "rmzCHESH61mt"
      },
      "source": [
        "df = pd.read_csv ('https://raw.githubusercontent.com/jaeem006/beduadp/master/Datasets/near_earth_objects-jan_feb_1995-clean.csv',index_col=0)\n",
        "df\n",
        "df.shape # --- Datos del data.frame (333, 10)"
      ],
      "execution_count": null,
      "outputs": []
    },
    {
      "cell_type": "code",
      "metadata": {
        "colab": {
          "base_uri": "https://localhost:8080/"
        },
        "id": "7TKHsjZ38dF2",
        "outputId": "b0b2f6fb-2a23-4540-c69a-6774d5efc16e"
      },
      "source": [
        "estimated = df['estimated_diameter.meters.estimated_diameter_max']\n",
        "sd= estimated.std()\n",
        "media=estimated.mean()\n",
        "long=len(estimated)\n",
        "\n",
        "print(f'La DS es de:', sd)\n",
        "print(f'La media es de:', media)\n",
        "print(f'Longitud de filas:', long)  # --- Medidas de dispersión "
      ],
      "execution_count": 18,
      "outputs": [
        {
          "output_type": "stream",
          "text": [
            "La DS es de: 614.691591855223\n",
            "La media es de: 410.0860422397653\n",
            "Longitud de filas: 333\n"
          ],
          "name": "stdout"
        }
      ]
    },
    {
      "cell_type": "code",
      "metadata": {
        "colab": {
          "base_uri": "https://localhost:8080/"
        },
        "id": "xBZ6GKWdUEVe",
        "outputId": "31cd6a34-770f-4041-aae1-6d0d05dc0702"
      },
      "source": [
        "len(estimated[(estimated >= media-sd) & (estimated <= media+sd)]"
      ],
      "execution_count": 35,
      "outputs": [
        {
          "output_type": "execute_result",
          "data": {
            "text/plain": [
              "301"
            ]
          },
          "metadata": {
            "tags": []
          },
          "execution_count": 35
        }
      ]
    },
    {
      "cell_type": "code",
      "metadata": {
        "colab": {
          "base_uri": "https://localhost:8080/"
        },
        "id": "M_wqY7cRYHxj",
        "outputId": "a7f7b696-0d59-497b-f35a-c36c1cda6405"
      },
      "source": [
        "estimated_=pd.Series(estimated)\n",
        "estimated_"
      ],
      "execution_count": 64,
      "outputs": [
        {
          "output_type": "execute_result",
          "data": {
            "text/plain": [
              "0      1081.533507\n",
              "1       215.794305\n",
              "2        98.637028\n",
              "3       103.285648\n",
              "4        49.435619\n",
              "          ...     \n",
              "328     986.370281\n",
              "329     986.370281\n",
              "330     358.129403\n",
              "331     941.976306\n",
              "332      48.132673\n",
              "Name: estimated_diameter.meters.estimated_diameter_max, Length: 333, dtype: float64"
            ]
          },
          "metadata": {
            "tags": []
          },
          "execution_count": 64
        }
      ]
    },
    {
      "cell_type": "code",
      "metadata": {
        "colab": {
          "base_uri": "https://localhost:8080/"
        },
        "id": "B9QmaK7w-oSz",
        "outputId": "04d6f88e-4cc3-4511-b9e7-cd23f95786f8"
      },
      "source": [
        "for i in estimated_:\n",
        "  if i >= media and i <=sd:\n",
        "      listado=[]\n",
        "      listado_=listado.append(i)\n",
        "      print (listado)"
      ],
      "execution_count": 77,
      "outputs": [
        {
          "output_type": "stream",
          "text": [
            "[517.6544821978]\n",
            "[430.566244241]\n",
            "[472.10649880550005]\n",
            "[450.8582061718]\n",
            "[517.6544821978]\n",
            "[472.10649880550005]\n",
            "[517.6544821978]\n",
            "[594.3468684194]\n",
            "[411.1875710413]\n",
            "[430.566244241]\n",
            "[542.0507863358]\n",
            "[494.3561926196]\n",
            "[567.5968528656]\n",
            "[411.1875710413]\n",
            "[517.6544821978]\n",
            "[472.10649880550005]\n",
            "[472.10649880550005]\n",
            "[411.1875710413]\n",
            "[494.3561926196]\n",
            "[411.1875710413]\n",
            "[567.5968528656]\n",
            "[411.1875710413]\n",
            "[567.5968528656]\n",
            "[450.8582061718]\n",
            "[567.5968528656]\n",
            "[430.566244241]\n",
            "[430.566244241]\n",
            "[430.566244241]\n",
            "[450.8582061718]\n",
            "[542.0507863358]\n",
            "[411.1875710413]\n",
            "[494.3561926196]\n",
            "[567.5968528656]\n",
            "[567.5968528656]\n",
            "[450.8582061718]\n",
            "[472.10649880550005]\n",
            "[567.5968528656]\n",
            "[542.0507863358]\n",
            "[450.8582061718]\n",
            "[542.0507863358]\n",
            "[594.3468684194]\n",
            "[472.10649880550005]\n",
            "[517.6544821978]\n"
          ],
          "name": "stdout"
        }
      ]
    },
    {
      "cell_type": "code",
      "metadata": {
        "colab": {
          "base_uri": "https://localhost:8080/"
        },
        "id": "fVxFSR9hBg16",
        "outputId": "39caba64-1c51-4fee-a6d9-57e6ed26d5d7"
      },
      "source": [
        "print(type(listado))\n",
        "len(listado)"
      ],
      "execution_count": 78,
      "outputs": [
        {
          "output_type": "stream",
          "text": [
            "<class 'list'>\n"
          ],
          "name": "stdout"
        },
        {
          "output_type": "execute_result",
          "data": {
            "text/plain": [
              "1"
            ]
          },
          "metadata": {
            "tags": []
          },
          "execution_count": 78
        }
      ]
    }
  ]
}